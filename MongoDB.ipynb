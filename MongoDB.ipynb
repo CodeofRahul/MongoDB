{
 "cells": [
  {
   "cell_type": "markdown",
   "id": "487b049d-5751-42e3-99ee-9606b4d6dd60",
   "metadata": {},
   "source": [
    "# MongoDB\n",
    "\n",
    "MongoDB is a No SQL database. It is an open-source, cross-platform, document-oriented database written in C++.\n",
    "\n",
    "- It stores data in JSON format (key-value pairs)."
   ]
  },
  {
   "cell_type": "markdown",
   "id": "34ee2479-5458-48a3-a7cf-c4fb12433c9b",
   "metadata": {},
   "source": [
    "## Why MongoDB\n",
    "\n",
    "- Performance\n",
    "- High Availability\n",
    "- Develop Faster\n",
    "- Develop Easier\n",
    "- Scale Bigger\n",
    "- Scaling from single server deployments to large, complex multi-site architectures."
   ]
  },
  {
   "cell_type": "markdown",
   "id": "58001930-6c55-425a-9dda-e1027b1df35f",
   "metadata": {},
   "source": [
    "## NoSQL Database\n",
    "\n",
    "- MongoDB\n",
    "- Cassandra\n",
    "- HBase\n",
    "- DataStax\n",
    "- Astra DB & many more"
   ]
  },
  {
   "cell_type": "markdown",
   "id": "96478ff7-86df-4443-965d-2837bf1e640f",
   "metadata": {},
   "source": [
    "## MongoDB Database\n",
    "\n",
    "- Local\n",
    "  - MongoDB Compass\n",
    "- Cloud\n",
    "  - MongoDB Atlas"
   ]
  },
  {
   "cell_type": "markdown",
   "id": "bd1aac6c-be2b-44f5-abee-cdc530aedef8",
   "metadata": {},
   "source": [
    "Go to MongoDB atlas --> Create project --> Go to Database and create \"DataBase User\" --> Go to \"Network Access\" and \"add id address\" --> Go to Database/Cluster --> Add cluster or click on \"Connect\" --> then setup connection to cluster"
   ]
  },
  {
   "cell_type": "code",
   "execution_count": 2,
   "id": "88eb4373-e0ce-4587-8b85-93fa778f9723",
   "metadata": {},
   "outputs": [
    {
     "name": "stdout",
     "output_type": "stream",
     "text": [
      "Collecting pymongo\n",
      "  Downloading pymongo-4.10.1-cp311-cp311-win_amd64.whl.metadata (22 kB)\n",
      "Collecting dnspython<3.0.0,>=1.16.0 (from pymongo)\n",
      "  Using cached dnspython-2.7.0-py3-none-any.whl.metadata (5.8 kB)\n",
      "Downloading pymongo-4.10.1-cp311-cp311-win_amd64.whl (876 kB)\n",
      "   ---------------------------------------- 0.0/876.5 kB ? eta -:--:--\n",
      "   ---------------------------------------- 10.2/876.5 kB ? eta -:--:--\n",
      "   - ------------------------------------- 30.7/876.5 kB 330.3 kB/s eta 0:00:03\n",
      "   - ------------------------------------- 41.0/876.5 kB 281.8 kB/s eta 0:00:03\n",
      "   ---- ---------------------------------- 92.2/876.5 kB 476.3 kB/s eta 0:00:02\n",
      "   ----- -------------------------------- 122.9/876.5 kB 514.3 kB/s eta 0:00:02\n",
      "   ----- -------------------------------- 133.1/876.5 kB 525.1 kB/s eta 0:00:02\n",
      "   ------- ------------------------------ 174.1/876.5 kB 551.6 kB/s eta 0:00:02\n",
      "   --------- ---------------------------- 215.0/876.5 kB 570.5 kB/s eta 0:00:02\n",
      "   ----------- -------------------------- 266.2/876.5 kB 656.4 kB/s eta 0:00:01\n",
      "   ------------- ------------------------ 317.4/876.5 kB 678.1 kB/s eta 0:00:01\n",
      "   --------------- ---------------------- 368.6/876.5 kB 740.5 kB/s eta 0:00:01\n",
      "   ------------------- ------------------ 450.6/876.5 kB 805.0 kB/s eta 0:00:01\n",
      "   ------------------- ------------------ 460.8/876.5 kB 779.5 kB/s eta 0:00:01\n",
      "   ---------------------- --------------- 512.0/876.5 kB 802.8 kB/s eta 0:00:01\n",
      "   ------------------------- ------------ 593.9/876.5 kB 849.6 kB/s eta 0:00:01\n",
      "   --------------------------- ---------- 645.1/876.5 kB 883.0 kB/s eta 0:00:01\n",
      "   ------------------------------ ------- 706.6/876.5 kB 891.6 kB/s eta 0:00:01\n",
      "   --------------------------------- ---- 768.0/876.5 kB 915.2 kB/s eta 0:00:01\n",
      "   ----------------------------------- -- 829.4/876.5 kB 936.2 kB/s eta 0:00:01\n",
      "   -------------------------------------  870.4/876.5 kB 932.9 kB/s eta 0:00:01\n",
      "   -------------------------------------- 876.5/876.5 kB 909.0 kB/s eta 0:00:00\n",
      "Downloading dnspython-2.7.0-py3-none-any.whl (313 kB)\n",
      "   ---------------------------------------- 0.0/313.6 kB ? eta -:--:--\n",
      "   --------- ------------------------------ 71.7/313.6 kB 2.0 MB/s eta 0:00:01\n",
      "   ------------------ --------------------- 143.4/313.6 kB 1.7 MB/s eta 0:00:01\n",
      "   ---------------------- ----------------- 174.1/313.6 kB 1.5 MB/s eta 0:00:01\n",
      "   --------------------------------- ------ 266.2/313.6 kB 1.4 MB/s eta 0:00:01\n",
      "   ---------------------------------------- 313.6/313.6 kB 1.3 MB/s eta 0:00:00\n",
      "Installing collected packages: dnspython, pymongo\n",
      "Successfully installed dnspython-2.7.0 pymongo-4.10.1\n"
     ]
    }
   ],
   "source": [
    "!pip install pymongo"
   ]
  },
  {
   "cell_type": "code",
   "execution_count": 3,
   "id": "c1b55796-8d73-456a-9f23-712dcb75597f",
   "metadata": {},
   "outputs": [],
   "source": [
    "from pymongo.mongo_client import MongoClient"
   ]
  },
  {
   "cell_type": "code",
   "execution_count": 13,
   "id": "c24d78ac-56ac-4bf5-b092-60389d113581",
   "metadata": {},
   "outputs": [],
   "source": [
    "uri = \"mongodb+srv://rahul321:<db_password>@cluster0.53ldo.mongodb.net/?retryWrites=true&w=majority&appName=Cluster0\"\n"
   ]
  },
  {
   "cell_type": "code",
   "execution_count": 14,
   "id": "5307d758-6e13-460d-8d97-342ca4debecf",
   "metadata": {},
   "outputs": [],
   "source": [
    "client = MongoClient(uri)"
   ]
  },
  {
   "cell_type": "code",
   "execution_count": 15,
   "id": "6fb0b9f4-c470-48c4-a6a1-82dbbb7c6c1b",
   "metadata": {},
   "outputs": [],
   "source": [
    "# Create Database\n",
    "database_name = 'student1'\n",
    "student_database = client[database_name]"
   ]
  },
  {
   "cell_type": "code",
   "execution_count": 16,
   "id": "2b982a6a-dff3-48f6-be45-e1c119b0e954",
   "metadata": {},
   "outputs": [],
   "source": [
    "# Create a Collection\n",
    "collection = 'student_database'"
   ]
  },
  {
   "cell_type": "code",
   "execution_count": 17,
   "id": "e2a9325c-2db1-4f7b-a046-633af4638389",
   "metadata": {},
   "outputs": [],
   "source": [
    "student_details_collection = student_database[collection]"
   ]
  },
  {
   "cell_type": "code",
   "execution_count": 18,
   "id": "a3a427ca-d677-4260-a8cc-048becd52c1c",
   "metadata": {},
   "outputs": [],
   "source": [
    "# Document create\n",
    "student_data = {\n",
    "    \"name\": \"Shivan\",\n",
    "    \"collage\": \"PTU\",\n",
    "    \"Address\": \"Whitefiled\"\n",
    "}"
   ]
  },
  {
   "cell_type": "markdown",
   "id": "48287739-38d8-46da-b20c-398c2cc0cc26",
   "metadata": {},
   "source": [
    "### Insert single data"
   ]
  },
  {
   "cell_type": "code",
   "execution_count": 19,
   "id": "7b4b8bfb-25f3-4ea7-8d28-d7d212dfcc40",
   "metadata": {},
   "outputs": [
    {
     "data": {
      "text/plain": [
       "InsertOneResult(ObjectId('6770e5e6590550fb1c6cddb2'), acknowledged=True)"
      ]
     },
     "execution_count": 19,
     "metadata": {},
     "output_type": "execute_result"
    }
   ],
   "source": [
    "# Insert data\n",
    "student_details_collection.insert_one(student_data)"
   ]
  },
  {
   "cell_type": "markdown",
   "id": "9842912c-d60a-4b5c-8ec4-ee569adcd378",
   "metadata": {},
   "source": [
    "**To see the data in mongodb atlas --> Go to \"Clusters\" --> click on \"Collections\"**"
   ]
  },
  {
   "cell_type": "markdown",
   "id": "4bba5399-a6ea-46f6-bd75-32a5f32c2726",
   "metadata": {},
   "source": [
    "### Fetch single data"
   ]
  },
  {
   "cell_type": "code",
   "execution_count": 20,
   "id": "732e0f04-2537-471d-921e-27c191578401",
   "metadata": {},
   "outputs": [],
   "source": [
    "# To fetch the data\n",
    "student_corsor = student_details_collection.find()"
   ]
  },
  {
   "cell_type": "code",
   "execution_count": 22,
   "id": "29f501cb-5142-438d-a465-e4eda8801d7a",
   "metadata": {},
   "outputs": [
    {
     "data": {
      "text/plain": [
       "{'_id': ObjectId('6770e5e6590550fb1c6cddb2'),\n",
       " 'name': 'Shivan',\n",
       " 'collage': 'PTU',\n",
       " 'Address': 'Whitefiled'}"
      ]
     },
     "execution_count": 22,
     "metadata": {},
     "output_type": "execute_result"
    }
   ],
   "source": [
    "student_corsor.next()"
   ]
  },
  {
   "cell_type": "code",
   "execution_count": 24,
   "id": "e1ce1803-912e-4b11-9a2f-98ba9abda365",
   "metadata": {},
   "outputs": [],
   "source": [
    "# Document create\n",
    "student_data = {\n",
    "    \"name\": \"Sanju\",\n",
    "    \"collage\": \"UPTU\",\n",
    "    \"Roll_number\": 789\n",
    "}"
   ]
  },
  {
   "cell_type": "code",
   "execution_count": 25,
   "id": "c2ba34ac-4094-4606-a9f3-a40a1dcd1b05",
   "metadata": {},
   "outputs": [
    {
     "data": {
      "text/plain": [
       "InsertOneResult(ObjectId('6770e81b590550fb1c6cddb3'), acknowledged=True)"
      ]
     },
     "execution_count": 25,
     "metadata": {},
     "output_type": "execute_result"
    }
   ],
   "source": [
    "student_details_collection.insert_one(student_data)"
   ]
  },
  {
   "cell_type": "code",
   "execution_count": 32,
   "id": "7bf81a4e-4391-482f-9513-17ddea1d352f",
   "metadata": {},
   "outputs": [],
   "source": [
    "student_corsor = student_details_collection.find()"
   ]
  },
  {
   "cell_type": "code",
   "execution_count": 33,
   "id": "4c916d45-4962-4283-a96f-a6c0941bbb1e",
   "metadata": {},
   "outputs": [
    {
     "data": {
      "text/plain": [
       "{'_id': ObjectId('6770e5e6590550fb1c6cddb2'),\n",
       " 'name': 'Shivan',\n",
       " 'collage': 'PTU',\n",
       " 'Address': 'Whitefiled'}"
      ]
     },
     "execution_count": 33,
     "metadata": {},
     "output_type": "execute_result"
    }
   ],
   "source": [
    "student_corsor.next()"
   ]
  },
  {
   "cell_type": "code",
   "execution_count": 34,
   "id": "72cf55c9-b7ea-478f-866b-e7b3e26e4b8b",
   "metadata": {},
   "outputs": [
    {
     "data": {
      "text/plain": [
       "{'_id': ObjectId('6770e81b590550fb1c6cddb3'),\n",
       " 'name': 'Sanju',\n",
       " 'collage': 'UPTU',\n",
       " 'Roll_number': 789}"
      ]
     },
     "execution_count": 34,
     "metadata": {},
     "output_type": "execute_result"
    }
   ],
   "source": [
    "student_corsor.next()"
   ]
  },
  {
   "cell_type": "code",
   "execution_count": 35,
   "id": "90beb67d-defd-4995-ad74-be3646424299",
   "metadata": {},
   "outputs": [
    {
     "name": "stdout",
     "output_type": "stream",
     "text": [
      "{'_id': ObjectId('6770e5e6590550fb1c6cddb2'), 'name': 'Shivan', 'collage': 'PTU', 'Address': 'Whitefiled'}\n",
      "{'_id': ObjectId('6770e81b590550fb1c6cddb3'), 'name': 'Sanju', 'collage': 'UPTU', 'Roll_number': 789}\n"
     ]
    }
   ],
   "source": [
    "# To fetch all data\n",
    "for student_details in student_details_collection.find():\n",
    "    print(student_details)"
   ]
  },
  {
   "cell_type": "markdown",
   "id": "489b69bf-90b5-4e66-a9de-1a48150afac2",
   "metadata": {},
   "source": [
    "### Insert multiple data"
   ]
  },
  {
   "cell_type": "code",
   "execution_count": 59,
   "id": "12475189-cc72-4402-80a7-74925717cce2",
   "metadata": {},
   "outputs": [],
   "source": [
    "student_data_list = [\n",
    "    {\"name\":\"shubham\", \"last_name\":\"Kumar\", \"Course\":\"Cyber Security\"},\n",
    "    {\"City\":\"bangalore\", \"name\":\"Sima\", \"Collage\":\"Mumbai University\"},\n",
    "    {\"name\":\"Rahul\", \"Books\":\"Machine Learning\", \"job\": \"Data Science\"}\n",
    "]"
   ]
  },
  {
   "cell_type": "code",
   "execution_count": 60,
   "id": "45152928-115b-4362-b08d-2dd1961b755e",
   "metadata": {},
   "outputs": [
    {
     "data": {
      "text/plain": [
       "InsertManyResult([ObjectId('6770f077590550fb1c6cddb7'), ObjectId('6770f077590550fb1c6cddb8'), ObjectId('6770f077590550fb1c6cddb9')], acknowledged=True)"
      ]
     },
     "execution_count": 60,
     "metadata": {},
     "output_type": "execute_result"
    }
   ],
   "source": [
    "student_details_collection.insert_many(student_data_list)"
   ]
  },
  {
   "cell_type": "code",
   "execution_count": 39,
   "id": "92942ad3-fb2f-4e91-85dc-b3c1556bbba4",
   "metadata": {},
   "outputs": [
    {
     "name": "stdout",
     "output_type": "stream",
     "text": [
      "{'_id': ObjectId('6770e5e6590550fb1c6cddb2'), 'name': 'Shivan', 'collage': 'PTU', 'Address': 'Whitefiled'}\n",
      "{'_id': ObjectId('6770e81b590550fb1c6cddb3'), 'name': 'Sanju', 'collage': 'UPTU', 'Roll_number': 789}\n",
      "{'_id': ObjectId('6770ea38590550fb1c6cddb4'), 'name': 'shubham', 'last_name': 'Kumar', 'Course': 'Cyber Security'}\n",
      "{'_id': ObjectId('6770ea38590550fb1c6cddb5'), 'City': 'bangalore', 'name': 'Sima', 'Collage': 'Mumbai University'}\n",
      "{'_id': ObjectId('6770ea38590550fb1c6cddb6'), 'name': 'Rahul', 'Books': 'Machine Learning', 'job': 'Data Science'}\n"
     ]
    }
   ],
   "source": [
    "for student_details in student_details_collection.find():\n",
    "    print(student_details)"
   ]
  },
  {
   "cell_type": "markdown",
   "id": "e433f2c7-bf3c-4c6d-bccd-c636286d7f3d",
   "metadata": {},
   "source": [
    "### Filter operations"
   ]
  },
  {
   "cell_type": "code",
   "execution_count": 42,
   "id": "59d50bfe-a819-4e18-a4c7-109efac8816b",
   "metadata": {},
   "outputs": [],
   "source": [
    "query = {\"name\":\"Rahul\"}"
   ]
  },
  {
   "cell_type": "code",
   "execution_count": 43,
   "id": "7c563c84-aa6d-450d-810f-bff39a2dd6eb",
   "metadata": {},
   "outputs": [
    {
     "name": "stdout",
     "output_type": "stream",
     "text": [
      "{'_id': ObjectId('6770ea38590550fb1c6cddb6'), 'name': 'Rahul', 'Books': 'Machine Learning', 'job': 'Data Science'}\n"
     ]
    }
   ],
   "source": [
    "for student_details in student_details_collection.find(query):\n",
    "    print(student_details)"
   ]
  },
  {
   "cell_type": "code",
   "execution_count": null,
   "id": "2d926512-170b-4478-98ea-3d489406dfe4",
   "metadata": {},
   "outputs": [],
   "source": []
  },
  {
   "cell_type": "code",
   "execution_count": 49,
   "id": "4288bc6f-4d89-4207-9ab2-f7d35b510864",
   "metadata": {},
   "outputs": [],
   "source": [
    "query = {\"name\":\"Rahul\", \"Books\":\"Machine Learning\"}"
   ]
  },
  {
   "cell_type": "code",
   "execution_count": 50,
   "id": "1bb27e38-d85b-43e2-9fd1-9af48aa022c8",
   "metadata": {},
   "outputs": [
    {
     "name": "stdout",
     "output_type": "stream",
     "text": [
      "{'_id': ObjectId('6770ea38590550fb1c6cddb6'), 'name': 'Rahul', 'Books': 'Machine Learning', 'job': 'Data Science'}\n"
     ]
    }
   ],
   "source": [
    "for student_details in student_details_collection.find(query):\n",
    "    print(student_details)"
   ]
  },
  {
   "cell_type": "code",
   "execution_count": null,
   "id": "52725373-8337-4e30-b47d-f3c417db27d3",
   "metadata": {},
   "outputs": [],
   "source": []
  },
  {
   "cell_type": "code",
   "execution_count": 51,
   "id": "979d4744-c791-4fa7-810d-5575b49c1355",
   "metadata": {},
   "outputs": [],
   "source": [
    "# Regular Expression\n",
    "myquery = {\"name\":{\"$regex\":\"^S\"}}     # fetch the record that starts with S"
   ]
  },
  {
   "cell_type": "code",
   "execution_count": 52,
   "id": "a736544c-e2fa-43ae-ae4c-3c17146d0dae",
   "metadata": {},
   "outputs": [
    {
     "name": "stdout",
     "output_type": "stream",
     "text": [
      "{'_id': ObjectId('6770e5e6590550fb1c6cddb2'), 'name': 'Shivan', 'collage': 'PTU', 'Address': 'Whitefiled'}\n",
      "{'_id': ObjectId('6770e81b590550fb1c6cddb3'), 'name': 'Sanju', 'collage': 'UPTU', 'Roll_number': 789}\n",
      "{'_id': ObjectId('6770ea38590550fb1c6cddb5'), 'City': 'bangalore', 'name': 'Sima', 'Collage': 'Mumbai University'}\n"
     ]
    }
   ],
   "source": [
    "doc = student_details_collection.find(myquery)\n",
    "\n",
    "for x in doc:\n",
    "    print(x)"
   ]
  },
  {
   "cell_type": "code",
   "execution_count": null,
   "id": "b533265b-ce44-4a63-8702-6f5c99a90e9a",
   "metadata": {},
   "outputs": [],
   "source": []
  },
  {
   "cell_type": "code",
   "execution_count": 53,
   "id": "b3c438e6-0af5-49cf-a913-60842fa71990",
   "metadata": {},
   "outputs": [
    {
     "name": "stdout",
     "output_type": "stream",
     "text": [
      "{'_id': ObjectId('6770ea38590550fb1c6cddb6'), 'name': 'Rahul', 'Books': 'Machine Learning', 'job': 'Data Science'}\n",
      "{'_id': ObjectId('6770e81b590550fb1c6cddb3'), 'name': 'Sanju', 'collage': 'UPTU', 'Roll_number': 789}\n",
      "{'_id': ObjectId('6770e5e6590550fb1c6cddb2'), 'name': 'Shivan', 'collage': 'PTU', 'Address': 'Whitefiled'}\n",
      "{'_id': ObjectId('6770ea38590550fb1c6cddb5'), 'City': 'bangalore', 'name': 'Sima', 'Collage': 'Mumbai University'}\n",
      "{'_id': ObjectId('6770ea38590550fb1c6cddb4'), 'name': 'shubham', 'last_name': 'Kumar', 'Course': 'Cyber Security'}\n"
     ]
    }
   ],
   "source": [
    "# Sort\n",
    "doc = student_details_collection.find().sort(\"name\")\n",
    "for x in doc:\n",
    "    print(x)"
   ]
  },
  {
   "cell_type": "code",
   "execution_count": null,
   "id": "b7dcc3aa-4c54-4aee-95ca-e5f4ff075e57",
   "metadata": {},
   "outputs": [],
   "source": []
  },
  {
   "cell_type": "markdown",
   "id": "543fe40a-4bc4-495b-b15d-09a163436a5b",
   "metadata": {},
   "source": [
    "### Delete Operation"
   ]
  },
  {
   "cell_type": "code",
   "execution_count": 54,
   "id": "412e9957-7e6e-424b-bd7a-912060339339",
   "metadata": {},
   "outputs": [
    {
     "data": {
      "text/plain": [
       "DeleteResult({'n': 1, 'electionId': ObjectId('7fffffff000000000000022a'), 'opTime': {'ts': Timestamp(1735454569, 19), 't': 554}, 'ok': 1.0, '$clusterTime': {'clusterTime': Timestamp(1735454569, 19), 'signature': {'hash': b'`Z\\xc8\\x92\\xbc\\xaa\\xd85\\xc6\\xc0x6_\\xfc\\xc2\\x8a\\xe1\\x94\\xe4\\x90', 'keyId': 7413316082078842881}}, 'operationTime': Timestamp(1735454569, 19)}, acknowledged=True)"
      ]
     },
     "execution_count": 54,
     "metadata": {},
     "output_type": "execute_result"
    }
   ],
   "source": [
    "myquery = {\"name\": \"Sanju\"}\n",
    "student_details_collection.delete_one(myquery)"
   ]
  },
  {
   "cell_type": "code",
   "execution_count": 55,
   "id": "72eaab25-02bb-4e40-98c9-eb643cd1e19a",
   "metadata": {},
   "outputs": [
    {
     "name": "stdout",
     "output_type": "stream",
     "text": [
      "{'_id': ObjectId('6770e5e6590550fb1c6cddb2'), 'name': 'Shivan', 'collage': 'PTU', 'Address': 'Whitefiled'}\n",
      "{'_id': ObjectId('6770ea38590550fb1c6cddb4'), 'name': 'shubham', 'last_name': 'Kumar', 'Course': 'Cyber Security'}\n",
      "{'_id': ObjectId('6770ea38590550fb1c6cddb5'), 'City': 'bangalore', 'name': 'Sima', 'Collage': 'Mumbai University'}\n",
      "{'_id': ObjectId('6770ea38590550fb1c6cddb6'), 'name': 'Rahul', 'Books': 'Machine Learning', 'job': 'Data Science'}\n"
     ]
    }
   ],
   "source": [
    "for x in student_details_collection.find():\n",
    "    print(x)"
   ]
  },
  {
   "cell_type": "code",
   "execution_count": null,
   "id": "0155936f-6bdf-4ab9-9ac4-f99125f77d9d",
   "metadata": {},
   "outputs": [],
   "source": []
  },
  {
   "cell_type": "code",
   "execution_count": 61,
   "id": "8bdbb5dd-dd8f-423e-834c-9a305d924103",
   "metadata": {},
   "outputs": [],
   "source": [
    "# Delete multiple records\n",
    "myquery = {\"name\": {\"$regex\": \"^S\"}}"
   ]
  },
  {
   "cell_type": "code",
   "execution_count": 62,
   "id": "963e61dd-cc77-41fc-83f9-b447cb505793",
   "metadata": {},
   "outputs": [
    {
     "name": "stdout",
     "output_type": "stream",
     "text": [
      "1\n"
     ]
    }
   ],
   "source": [
    "x = student_details_collection.delete_many(myquery)\n",
    "\n",
    "print(x.deleted_count)"
   ]
  },
  {
   "cell_type": "code",
   "execution_count": null,
   "id": "ec0138b0-72cf-40b1-ab0a-1ec453918f69",
   "metadata": {},
   "outputs": [],
   "source": []
  }
 ],
 "metadata": {
  "kernelspec": {
   "display_name": "Python 3 (ipykernel)",
   "language": "python",
   "name": "python3"
  },
  "language_info": {
   "codemirror_mode": {
    "name": "ipython",
    "version": 3
   },
   "file_extension": ".py",
   "mimetype": "text/x-python",
   "name": "python",
   "nbconvert_exporter": "python",
   "pygments_lexer": "ipython3",
   "version": "3.11.7"
  }
 },
 "nbformat": 4,
 "nbformat_minor": 5
}
